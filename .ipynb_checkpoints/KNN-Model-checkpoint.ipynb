{
 "cells": [
  {
   "cell_type": "code",
   "execution_count": 1,
   "metadata": {},
   "outputs": [],
   "source": [
    "import pandas as pd\n",
    "import numpy as np\n",
    "import matplotlib.pyplot as plt\n",
    "import seaborn as sns"
   ]
  },
  {
   "cell_type": "code",
   "execution_count": 2,
   "metadata": {},
   "outputs": [],
   "source": [
    "import warnings\n",
    "warnings.filterwarnings('ignore')"
   ]
  },
  {
   "cell_type": "code",
   "execution_count": 3,
   "metadata": {},
   "outputs": [
    {
     "data": {
      "text/html": [
       "<div>\n",
       "<style scoped>\n",
       "    .dataframe tbody tr th:only-of-type {\n",
       "        vertical-align: middle;\n",
       "    }\n",
       "\n",
       "    .dataframe tbody tr th {\n",
       "        vertical-align: top;\n",
       "    }\n",
       "\n",
       "    .dataframe thead th {\n",
       "        text-align: right;\n",
       "    }\n",
       "</style>\n",
       "<table border=\"1\" class=\"dataframe\">\n",
       "  <thead>\n",
       "    <tr style=\"text-align: right;\">\n",
       "      <th></th>\n",
       "      <th>Age</th>\n",
       "      <th>Debt</th>\n",
       "      <th>EducationLevel</th>\n",
       "      <th>YearsEmployed</th>\n",
       "      <th>PriorDefault</th>\n",
       "      <th>Employed</th>\n",
       "      <th>CreditScore</th>\n",
       "      <th>Citizen</th>\n",
       "      <th>ZipCode</th>\n",
       "      <th>Income</th>\n",
       "      <th>Approved</th>\n",
       "    </tr>\n",
       "  </thead>\n",
       "  <tbody>\n",
       "    <tr>\n",
       "      <th>0</th>\n",
       "      <td>327</td>\n",
       "      <td>4.460</td>\n",
       "      <td>11</td>\n",
       "      <td>3.04</td>\n",
       "      <td>1</td>\n",
       "      <td>1</td>\n",
       "      <td>6</td>\n",
       "      <td>0</td>\n",
       "      <td>11</td>\n",
       "      <td>560.000000</td>\n",
       "      <td>0</td>\n",
       "    </tr>\n",
       "    <tr>\n",
       "      <th>1</th>\n",
       "      <td>89</td>\n",
       "      <td>0.500</td>\n",
       "      <td>11</td>\n",
       "      <td>1.50</td>\n",
       "      <td>1</td>\n",
       "      <td>0</td>\n",
       "      <td>0</td>\n",
       "      <td>0</td>\n",
       "      <td>95</td>\n",
       "      <td>824.000000</td>\n",
       "      <td>0</td>\n",
       "    </tr>\n",
       "    <tr>\n",
       "      <th>2</th>\n",
       "      <td>125</td>\n",
       "      <td>1.540</td>\n",
       "      <td>13</td>\n",
       "      <td>3.75</td>\n",
       "      <td>1</td>\n",
       "      <td>1</td>\n",
       "      <td>5</td>\n",
       "      <td>0</td>\n",
       "      <td>31</td>\n",
       "      <td>3.000000</td>\n",
       "      <td>0</td>\n",
       "    </tr>\n",
       "    <tr>\n",
       "      <th>3</th>\n",
       "      <td>43</td>\n",
       "      <td>5.625</td>\n",
       "      <td>13</td>\n",
       "      <td>1.71</td>\n",
       "      <td>1</td>\n",
       "      <td>0</td>\n",
       "      <td>0</td>\n",
       "      <td>2</td>\n",
       "      <td>37</td>\n",
       "      <td>1018.862119</td>\n",
       "      <td>0</td>\n",
       "    </tr>\n",
       "    <tr>\n",
       "      <th>4</th>\n",
       "      <td>167</td>\n",
       "      <td>4.000</td>\n",
       "      <td>10</td>\n",
       "      <td>2.50</td>\n",
       "      <td>1</td>\n",
       "      <td>0</td>\n",
       "      <td>0</td>\n",
       "      <td>0</td>\n",
       "      <td>114</td>\n",
       "      <td>1018.862119</td>\n",
       "      <td>0</td>\n",
       "    </tr>\n",
       "  </tbody>\n",
       "</table>\n",
       "</div>"
      ],
      "text/plain": [
       "   Age   Debt  EducationLevel  YearsEmployed  PriorDefault  Employed  \\\n",
       "0  327  4.460              11           3.04             1         1   \n",
       "1   89  0.500              11           1.50             1         0   \n",
       "2  125  1.540              13           3.75             1         1   \n",
       "3   43  5.625              13           1.71             1         0   \n",
       "4  167  4.000              10           2.50             1         0   \n",
       "\n",
       "   CreditScore  Citizen  ZipCode       Income  Approved  \n",
       "0            6        0       11   560.000000         0  \n",
       "1            0        0       95   824.000000         0  \n",
       "2            5        0       31     3.000000         0  \n",
       "3            0        2       37  1018.862119         0  \n",
       "4            0        0      114  1018.862119         0  "
      ]
     },
     "execution_count": 3,
     "metadata": {},
     "output_type": "execute_result"
    }
   ],
   "source": [
    "df=pd.read_csv('Feature_Selection.csv')\n",
    "df.head()"
   ]
  },
  {
   "cell_type": "code",
   "execution_count": 4,
   "metadata": {},
   "outputs": [],
   "source": [
    "from sklearn.preprocessing import StandardScaler\n",
    "\n",
    "scaler = StandardScaler()\n",
    "\n",
    "scaled_features = scaler.fit_transform(df.drop('Approved',axis=1))"
   ]
  },
  {
   "cell_type": "code",
   "execution_count": 5,
   "metadata": {},
   "outputs": [
    {
     "data": {
      "text/html": [
       "<div>\n",
       "<style scoped>\n",
       "    .dataframe tbody tr th:only-of-type {\n",
       "        vertical-align: middle;\n",
       "    }\n",
       "\n",
       "    .dataframe tbody tr th {\n",
       "        vertical-align: top;\n",
       "    }\n",
       "\n",
       "    .dataframe thead th {\n",
       "        text-align: right;\n",
       "    }\n",
       "</style>\n",
       "<table border=\"1\" class=\"dataframe\">\n",
       "  <thead>\n",
       "    <tr style=\"text-align: right;\">\n",
       "      <th></th>\n",
       "      <th>Age</th>\n",
       "      <th>Debt</th>\n",
       "      <th>EducationLevel</th>\n",
       "      <th>YearsEmployed</th>\n",
       "      <th>PriorDefault</th>\n",
       "      <th>Employed</th>\n",
       "      <th>CreditScore</th>\n",
       "      <th>Citizen</th>\n",
       "      <th>ZipCode</th>\n",
       "      <th>Income</th>\n",
       "    </tr>\n",
       "  </thead>\n",
       "  <tbody>\n",
       "    <tr>\n",
       "      <th>0</th>\n",
       "      <td>1.847529</td>\n",
       "      <td>-0.061435</td>\n",
       "      <td>0.999242</td>\n",
       "      <td>0.243606</td>\n",
       "      <td>0.955975</td>\n",
       "      <td>1.159111</td>\n",
       "      <td>0.739920</td>\n",
       "      <td>-0.317424</td>\n",
       "      <td>-1.004053</td>\n",
       "      <td>-0.173553</td>\n",
       "    </tr>\n",
       "    <tr>\n",
       "      <th>1</th>\n",
       "      <td>-0.637860</td>\n",
       "      <td>-0.857438</td>\n",
       "      <td>0.999242</td>\n",
       "      <td>-0.216602</td>\n",
       "      <td>0.955975</td>\n",
       "      <td>-0.862730</td>\n",
       "      <td>-0.493976</td>\n",
       "      <td>-0.317424</td>\n",
       "      <td>0.752455</td>\n",
       "      <td>-0.122280</td>\n",
       "    </tr>\n",
       "    <tr>\n",
       "      <th>2</th>\n",
       "      <td>-0.261919</td>\n",
       "      <td>-0.648387</td>\n",
       "      <td>1.453233</td>\n",
       "      <td>0.455780</td>\n",
       "      <td>0.955975</td>\n",
       "      <td>1.159111</td>\n",
       "      <td>0.534270</td>\n",
       "      <td>-0.317424</td>\n",
       "      <td>-0.585836</td>\n",
       "      <td>-0.281730</td>\n",
       "    </tr>\n",
       "    <tr>\n",
       "      <th>3</th>\n",
       "      <td>-1.118230</td>\n",
       "      <td>0.172742</td>\n",
       "      <td>1.453233</td>\n",
       "      <td>-0.153847</td>\n",
       "      <td>0.955975</td>\n",
       "      <td>-0.862730</td>\n",
       "      <td>-0.493976</td>\n",
       "      <td>3.267909</td>\n",
       "      <td>-0.460372</td>\n",
       "      <td>-0.084435</td>\n",
       "    </tr>\n",
       "    <tr>\n",
       "      <th>4</th>\n",
       "      <td>0.176679</td>\n",
       "      <td>-0.153900</td>\n",
       "      <td>0.772246</td>\n",
       "      <td>0.082234</td>\n",
       "      <td>0.955975</td>\n",
       "      <td>-0.862730</td>\n",
       "      <td>-0.493976</td>\n",
       "      <td>-0.317424</td>\n",
       "      <td>1.149761</td>\n",
       "      <td>-0.084435</td>\n",
       "    </tr>\n",
       "  </tbody>\n",
       "</table>\n",
       "</div>"
      ],
      "text/plain": [
       "        Age      Debt  EducationLevel  YearsEmployed  PriorDefault  Employed  \\\n",
       "0  1.847529 -0.061435        0.999242       0.243606      0.955975  1.159111   \n",
       "1 -0.637860 -0.857438        0.999242      -0.216602      0.955975 -0.862730   \n",
       "2 -0.261919 -0.648387        1.453233       0.455780      0.955975  1.159111   \n",
       "3 -1.118230  0.172742        1.453233      -0.153847      0.955975 -0.862730   \n",
       "4  0.176679 -0.153900        0.772246       0.082234      0.955975 -0.862730   \n",
       "\n",
       "   CreditScore   Citizen   ZipCode    Income  \n",
       "0     0.739920 -0.317424 -1.004053 -0.173553  \n",
       "1    -0.493976 -0.317424  0.752455 -0.122280  \n",
       "2     0.534270 -0.317424 -0.585836 -0.281730  \n",
       "3    -0.493976  3.267909 -0.460372 -0.084435  \n",
       "4    -0.493976 -0.317424  1.149761 -0.084435  "
      ]
     },
     "execution_count": 5,
     "metadata": {},
     "output_type": "execute_result"
    }
   ],
   "source": [
    "\n",
    "df_feat = pd.DataFrame(scaled_features,columns=df.columns[:-1])\n",
    "df_feat.head()"
   ]
  },
  {
   "cell_type": "code",
   "execution_count": 6,
   "metadata": {},
   "outputs": [],
   "source": [
    "#### Train Test Split\n",
    "from sklearn.model_selection import train_test_split\n",
    "X_train,X_test,y_train,y_test=train_test_split(scaled_features,df['Approved'],test_size=0.20,random_state=0)"
   ]
  },
  {
   "cell_type": "code",
   "execution_count": 7,
   "metadata": {},
   "outputs": [],
   "source": [
    "from sklearn.neighbors import KNeighborsClassifier\n",
    "knn_classifier=KNeighborsClassifier(n_neighbors=1).fit(X_train,y_train)\n",
    "prediction=knn_classifier.predict(X_test)"
   ]
  },
  {
   "cell_type": "code",
   "execution_count": null,
   "metadata": {},
   "outputs": [],
   "source": []
  },
  {
   "cell_type": "code",
   "execution_count": 8,
   "metadata": {},
   "outputs": [
    {
     "name": "stdout",
     "output_type": "stream",
     "text": [
      "confusion matrix : [[41 22]\n",
      " [ 8 67]]\n",
      "Accuracy Score : 0.782608695652174\n",
      "              precision    recall  f1-score   support\n",
      "\n",
      "           0       0.84      0.65      0.73        63\n",
      "           1       0.75      0.89      0.82        75\n",
      "\n",
      "    accuracy                           0.78       138\n",
      "   macro avg       0.79      0.77      0.77       138\n",
      "weighted avg       0.79      0.78      0.78       138\n",
      "\n"
     ]
    }
   ],
   "source": [
    "from sklearn.metrics import confusion_matrix,classification_report,accuracy_score,roc_curve, roc_auc_score\n",
    "print(f'confusion matrix : {confusion_matrix(y_test,prediction)}')\n",
    "print(f'Accuracy Score : {accuracy_score(y_test,prediction)}')\n",
    "print(classification_report(y_test,prediction))"
   ]
  },
  {
   "cell_type": "code",
   "execution_count": 9,
   "metadata": {},
   "outputs": [
    {
     "data": {
      "text/plain": [
       "0.7720634920634921"
      ]
     },
     "execution_count": 9,
     "metadata": {},
     "output_type": "execute_result"
    }
   ],
   "source": [
    "auc = roc_auc_score(y_test, prediction)\n",
    "auc"
   ]
  },
  {
   "cell_type": "code",
   "execution_count": 10,
   "metadata": {},
   "outputs": [],
   "source": [
    "fpr, tpr, thresholds = roc_curve(y_test, prediction)"
   ]
  },
  {
   "cell_type": "code",
   "execution_count": 11,
   "metadata": {},
   "outputs": [
    {
     "data": {
      "image/png": "[encoded data removed]",
      "text/plain": [
       "<Figure size 432x288 with 1 Axes>"
      ]
     },
     "metadata": {
      "needs_background": "light"
     },
     "output_type": "display_data"
    }
   ],
   "source": [
    "plt.plot(fpr, tpr, color='orange', label='ROC')\n",
    "plt.plot([0, 1], [0, 1], color='darkblue', linestyle='--',label='ROC curve (area = %0.2f)' % auc)\n",
    "plt.xlabel('False Positive Rate')\n",
    "plt.ylabel('True Positive Rate')\n",
    "plt.title('Receiver Operating Characteristic (ROC) Curve for Naive Bayes')\n",
    "plt.legend()\n",
    "plt.show()"
   ]
  },
  {
   "cell_type": "code",
   "execution_count": 12,
   "metadata": {},
   "outputs": [],
   "source": [
    "from sklearn.model_selection import RandomizedSearchCV\n",
    "random_grid = { 'algorithm' : ['ball_tree', 'kd_tree', 'brute'],\n",
    "               'leaf_size' : [18,20,25,27,30,32,34],\n",
    "               'n_neighbors' : [3,5,7,9,10,11,12,13]\n",
    "              }"
   ]
  },
  {
   "cell_type": "code",
   "execution_count": 13,
   "metadata": {},
   "outputs": [],
   "source": [
    "# Use the random grid to search for best hyperparameters\n",
    "# First create the base model to tune\n",
    "Classifier=KNeighborsClassifier()"
   ]
  },
  {
   "cell_type": "code",
   "execution_count": 14,
   "metadata": {},
   "outputs": [],
   "source": [
    "# Random search of parameters, using 3 fold cross validation, \n",
    "# search across 100 different combinations\n",
    "knn_random = RandomizedSearchCV(estimator = Classifier, param_distributions = random_grid, cv = 5, verbose=2)"
   ]
  },
  {
   "cell_type": "code",
   "execution_count": 15,
   "metadata": {},
   "outputs": [
    {
     "name": "stdout",
     "output_type": "stream",
     "text": [
      "Fitting 5 folds for each of 10 candidates, totalling 50 fits\n",
      "[CV] n_neighbors=13, leaf_size=25, algorithm=kd_tree .................\n",
      "[CV] .. n_neighbors=13, leaf_size=25, algorithm=kd_tree, total=   0.0s\n",
      "[CV] n_neighbors=13, leaf_size=25, algorithm=kd_tree .................\n",
      "[CV] .. n_neighbors=13, leaf_size=25, algorithm=kd_tree, total=   0.0s\n",
      "[CV] n_neighbors=13, leaf_size=25, algorithm=kd_tree .................\n",
      "[CV] .. n_neighbors=13, leaf_size=25, algorithm=kd_tree, total=   0.0s\n",
      "[CV] n_neighbors=13, leaf_size=25, algorithm=kd_tree .................\n",
      "[CV] .. n_neighbors=13, leaf_size=25, algorithm=kd_tree, total=   0.0s\n",
      "[CV] n_neighbors=13, leaf_size=25, algorithm=kd_tree .................\n",
      "[CV] .. n_neighbors=13, leaf_size=25, algorithm=kd_tree, total=   0.0s\n",
      "[CV] n_neighbors=13, leaf_size=32, algorithm=brute ...................\n"
     ]
    },
    {
     "name": "stderr",
     "output_type": "stream",
     "text": [
      "[Parallel(n_jobs=1)]: Using backend SequentialBackend with 1 concurrent workers.\n",
      "[Parallel(n_jobs=1)]: Done   1 out of   1 | elapsed:    0.0s remaining:    0.0s\n"
     ]
    },
    {
     "name": "stdout",
     "output_type": "stream",
     "text": [
      "[CV] .... n_neighbors=13, leaf_size=32, algorithm=brute, total=   0.2s\n",
      "[CV] n_neighbors=13, leaf_size=32, algorithm=brute ...................\n",
      "[CV] .... n_neighbors=13, leaf_size=32, algorithm=brute, total=   0.1s\n",
      "[CV] n_neighbors=13, leaf_size=32, algorithm=brute ...................\n",
      "[CV] .... n_neighbors=13, leaf_size=32, algorithm=brute, total=   0.0s\n",
      "[CV] n_neighbors=13, leaf_size=32, algorithm=brute ...................\n",
      "[CV] .... n_neighbors=13, leaf_size=32, algorithm=brute, total=   0.0s\n",
      "[CV] n_neighbors=13, leaf_size=32, algorithm=brute ...................\n",
      "[CV] .... n_neighbors=13, leaf_size=32, algorithm=brute, total=   0.0s\n",
      "[CV] n_neighbors=11, leaf_size=32, algorithm=brute ...................\n",
      "[CV] .... n_neighbors=11, leaf_size=32, algorithm=brute, total=   0.0s\n",
      "[CV] n_neighbors=11, leaf_size=32, algorithm=brute ...................\n",
      "[CV] .... n_neighbors=11, leaf_size=32, algorithm=brute, total=   0.0s\n",
      "[CV] n_neighbors=11, leaf_size=32, algorithm=brute ...................\n",
      "[CV] .... n_neighbors=11, leaf_size=32, algorithm=brute, total=   0.0s\n",
      "[CV] n_neighbors=11, leaf_size=32, algorithm=brute ...................\n",
      "[CV] .... n_neighbors=11, leaf_size=32, algorithm=brute, total=   0.0s\n",
      "[CV] n_neighbors=11, leaf_size=32, algorithm=brute ...................\n",
      "[CV] .... n_neighbors=11, leaf_size=32, algorithm=brute, total=   0.0s\n",
      "[CV] n_neighbors=12, leaf_size=30, algorithm=kd_tree .................\n",
      "[CV] .. n_neighbors=12, leaf_size=30, algorithm=kd_tree, total=   0.0s\n",
      "[CV] n_neighbors=12, leaf_size=30, algorithm=kd_tree .................\n",
      "[CV] .. n_neighbors=12, leaf_size=30, algorithm=kd_tree, total=   0.0s\n",
      "[CV] n_neighbors=12, leaf_size=30, algorithm=kd_tree .................\n",
      "[CV] .. n_neighbors=12, leaf_size=30, algorithm=kd_tree, total=   0.0s\n",
      "[CV] n_neighbors=12, leaf_size=30, algorithm=kd_tree .................\n",
      "[CV] .. n_neighbors=12, leaf_size=30, algorithm=kd_tree, total=   0.0s\n",
      "[CV] n_neighbors=12, leaf_size=30, algorithm=kd_tree .................\n",
      "[CV] .. n_neighbors=12, leaf_size=30, algorithm=kd_tree, total=   0.0s\n",
      "[CV] n_neighbors=9, leaf_size=27, algorithm=brute ....................\n",
      "[CV] ..... n_neighbors=9, leaf_size=27, algorithm=brute, total=   0.0s\n",
      "[CV] n_neighbors=9, leaf_size=27, algorithm=brute ....................\n",
      "[CV] ..... n_neighbors=9, leaf_size=27, algorithm=brute, total=   0.0s\n",
      "[CV] n_neighbors=9, leaf_size=27, algorithm=brute ....................\n",
      "[CV] ..... n_neighbors=9, leaf_size=27, algorithm=brute, total=   0.0s\n",
      "[CV] n_neighbors=9, leaf_size=27, algorithm=brute ....................\n",
      "[CV] ..... n_neighbors=9, leaf_size=27, algorithm=brute, total=   0.0s\n",
      "[CV] n_neighbors=9, leaf_size=27, algorithm=brute ....................\n",
      "[CV] ..... n_neighbors=9, leaf_size=27, algorithm=brute, total=   0.0s\n",
      "[CV] n_neighbors=12, leaf_size=18, algorithm=kd_tree .................\n",
      "[CV] .. n_neighbors=12, leaf_size=18, algorithm=kd_tree, total=   0.0s\n",
      "[CV] n_neighbors=12, leaf_size=18, algorithm=kd_tree .................\n",
      "[CV] .. n_neighbors=12, leaf_size=18, algorithm=kd_tree, total=   0.0s\n",
      "[CV] n_neighbors=12, leaf_size=18, algorithm=kd_tree .................\n",
      "[CV] .. n_neighbors=12, leaf_size=18, algorithm=kd_tree, total=   0.0s\n",
      "[CV] n_neighbors=12, leaf_size=18, algorithm=kd_tree .................\n",
      "[CV] .. n_neighbors=12, leaf_size=18, algorithm=kd_tree, total=   0.0s\n",
      "[CV] n_neighbors=12, leaf_size=18, algorithm=kd_tree .................\n",
      "[CV] .. n_neighbors=12, leaf_size=18, algorithm=kd_tree, total=   0.0s\n",
      "[CV] n_neighbors=3, leaf_size=27, algorithm=ball_tree ................\n",
      "[CV] . n_neighbors=3, leaf_size=27, algorithm=ball_tree, total=   0.0s\n",
      "[CV] n_neighbors=3, leaf_size=27, algorithm=ball_tree ................\n",
      "[CV] . n_neighbors=3, leaf_size=27, algorithm=ball_tree, total=   0.0s\n",
      "[CV] n_neighbors=3, leaf_size=27, algorithm=ball_tree ................\n",
      "[CV] . n_neighbors=3, leaf_size=27, algorithm=ball_tree, total=   0.0s\n",
      "[CV] n_neighbors=3, leaf_size=27, algorithm=ball_tree ................\n",
      "[CV] . n_neighbors=3, leaf_size=27, algorithm=ball_tree, total=   0.0s\n",
      "[CV] n_neighbors=3, leaf_size=27, algorithm=ball_tree ................\n",
      "[CV] . n_neighbors=3, leaf_size=27, algorithm=ball_tree, total=   0.0s\n",
      "[CV] n_neighbors=13, leaf_size=30, algorithm=kd_tree .................\n",
      "[CV] .. n_neighbors=13, leaf_size=30, algorithm=kd_tree, total=   0.0s\n",
      "[CV] n_neighbors=13, leaf_size=30, algorithm=kd_tree .................\n",
      "[CV] .. n_neighbors=13, leaf_size=30, algorithm=kd_tree, total=   0.0s\n",
      "[CV] n_neighbors=13, leaf_size=30, algorithm=kd_tree .................\n",
      "[CV] .. n_neighbors=13, leaf_size=30, algorithm=kd_tree, total=   0.0s\n",
      "[CV] n_neighbors=13, leaf_size=30, algorithm=kd_tree .................\n",
      "[CV] .. n_neighbors=13, leaf_size=30, algorithm=kd_tree, total=   0.0s\n",
      "[CV] n_neighbors=13, leaf_size=30, algorithm=kd_tree .................\n",
      "[CV] .. n_neighbors=13, leaf_size=30, algorithm=kd_tree, total=   0.0s\n",
      "[CV] n_neighbors=5, leaf_size=30, algorithm=kd_tree ..................\n",
      "[CV] ... n_neighbors=5, leaf_size=30, algorithm=kd_tree, total=   0.0s\n",
      "[CV] n_neighbors=5, leaf_size=30, algorithm=kd_tree ..................\n",
      "[CV] ... n_neighbors=5, leaf_size=30, algorithm=kd_tree, total=   0.0s\n",
      "[CV] n_neighbors=5, leaf_size=30, algorithm=kd_tree ..................\n",
      "[CV] ... n_neighbors=5, leaf_size=30, algorithm=kd_tree, total=   0.0s\n",
      "[CV] n_neighbors=5, leaf_size=30, algorithm=kd_tree ..................\n",
      "[CV] ... n_neighbors=5, leaf_size=30, algorithm=kd_tree, total=   0.0s\n",
      "[CV] n_neighbors=5, leaf_size=30, algorithm=kd_tree ..................\n",
      "[CV] ... n_neighbors=5, leaf_size=30, algorithm=kd_tree, total=   0.0s\n",
      "[CV] n_neighbors=5, leaf_size=18, algorithm=brute ....................\n",
      "[CV] ..... n_neighbors=5, leaf_size=18, algorithm=brute, total=   0.0s\n",
      "[CV] n_neighbors=5, leaf_size=18, algorithm=brute ....................\n",
      "[CV] ..... n_neighbors=5, leaf_size=18, algorithm=brute, total=   0.0s\n",
      "[CV] n_neighbors=5, leaf_size=18, algorithm=brute ....................\n",
      "[CV] ..... n_neighbors=5, leaf_size=18, algorithm=brute, total=   0.0s\n",
      "[CV] n_neighbors=5, leaf_size=18, algorithm=brute ....................\n",
      "[CV] ..... n_neighbors=5, leaf_size=18, algorithm=brute, total=   0.0s\n",
      "[CV] n_neighbors=5, leaf_size=18, algorithm=brute ....................\n",
      "[CV] ..... n_neighbors=5, leaf_size=18, algorithm=brute, total=   0.0s\n"
     ]
    },
    {
     "name": "stderr",
     "output_type": "stream",
     "text": [
      "[Parallel(n_jobs=1)]: Done  50 out of  50 | elapsed:    0.6s finished\n"
     ]
    },
    {
     "data": {
      "text/plain": [
       "RandomizedSearchCV(cv=5, error_score=nan,\n",
       "                   estimator=KNeighborsClassifier(algorithm='auto',\n",
       "                                                  leaf_size=30,\n",
       "                                                  metric='minkowski',\n",
       "                                                  metric_params=None,\n",
       "                                                  n_jobs=None, n_neighbors=5,\n",
       "                                                  p=2, weights='uniform'),\n",
       "                   iid='deprecated', n_iter=10, n_jobs=None,\n",
       "                   param_distributions={'algorithm': ['ball_tree', 'kd_tree',\n",
       "                                                      'brute'],\n",
       "                                        'leaf_size': [18, 20, 25, 27, 30, 32,\n",
       "                                                      34],\n",
       "                                        'n_neighbors': [3, 5, 7, 9, 10, 11, 12,\n",
       "                                                        13]},\n",
       "                   pre_dispatch='2*n_jobs', random_state=None, refit=True,\n",
       "                   return_train_score=False, scoring=None, verbose=2)"
      ]
     },
     "execution_count": 15,
     "metadata": {},
     "output_type": "execute_result"
    }
   ],
   "source": [
    "knn_random.fit(X_train,y_train)"
   ]
  },
  {
   "cell_type": "code",
   "execution_count": 16,
   "metadata": {},
   "outputs": [
    {
     "data": {
      "text/plain": [
       "{'n_neighbors': 12, 'leaf_size': 30, 'algorithm': 'kd_tree'}"
      ]
     },
     "execution_count": 16,
     "metadata": {},
     "output_type": "execute_result"
    }
   ],
   "source": [
    "knn_random.best_params_"
   ]
  },
  {
   "cell_type": "code",
   "execution_count": 17,
   "metadata": {},
   "outputs": [],
   "source": [
    "best_random_grid=knn_random.best_estimator_"
   ]
  },
  {
   "cell_type": "code",
   "execution_count": 18,
   "metadata": {},
   "outputs": [
    {
     "name": "stdout",
     "output_type": "stream",
     "text": [
      "[[48 15]\n",
      " [ 7 68]]\n",
      "Accuracy Score 0.8405797101449275\n",
      "Classification report:               precision    recall  f1-score   support\n",
      "\n",
      "           0       0.87      0.76      0.81        63\n",
      "           1       0.82      0.91      0.86        75\n",
      "\n",
      "    accuracy                           0.84       138\n",
      "   macro avg       0.85      0.83      0.84       138\n",
      "weighted avg       0.84      0.84      0.84       138\n",
      "\n"
     ]
    }
   ],
   "source": [
    "from sklearn.metrics import accuracy_score\n",
    "y_pred=best_random_grid.predict(X_test)\n",
    "print(confusion_matrix(y_test,y_pred))\n",
    "print(\"Accuracy Score {}\".format(accuracy_score(y_test,y_pred)))\n",
    "print(\"Classification report: {}\".format(classification_report(y_test,y_pred)))"
   ]
  },
  {
   "cell_type": "code",
   "execution_count": 19,
   "metadata": {},
   "outputs": [
    {
     "data": {
      "text/plain": [
       "12"
      ]
     },
     "execution_count": 19,
     "metadata": {},
     "output_type": "execute_result"
    }
   ],
   "source": [
    "#k-fold cross validation\n",
    "from sklearn.model_selection import KFold\n",
    "kfold = KFold(n_splits=12,random_state= 42)\n",
    "kfold.get_n_splits(scaled_features)"
   ]
  },
  {
   "cell_type": "code",
   "execution_count": 20,
   "metadata": {},
   "outputs": [
    {
     "name": "stdout",
     "output_type": "stream",
     "text": [
      "for k =  1\n",
      "train_score is :   0.8795562599049128 and test score is :   0.7586206896551724\n",
      "for k =  2\n",
      "train_score is :   0.9128367670364501 and test score is :   0.3275862068965517\n",
      "for k =  3\n",
      "train_score is :   0.8716323296354992 and test score is :   0.9137931034482759\n",
      "for k =  4\n",
      "train_score is :   0.8795562599049128 and test score is :   0.8103448275862069\n",
      "for k =  5\n",
      "train_score is :   0.873217115689382 and test score is :   0.9482758620689655\n",
      "for k =  6\n",
      "train_score is :   0.8734177215189873 and test score is :   0.9122807017543859\n",
      "for k =  7\n",
      "train_score is :   0.8670886075949367 and test score is :   0.9649122807017544\n",
      "for k =  8\n",
      "train_score is :   0.865506329113924 and test score is :   0.9824561403508771\n",
      "for k =  9\n",
      "train_score is :   0.8670886075949367 and test score is :   0.9122807017543859\n",
      "for k =  10\n",
      "train_score is :   0.8924050632911392 and test score is :   0.5964912280701754\n",
      "for k =  11\n",
      "train_score is :   0.879746835443038 and test score is :   0.8245614035087719\n",
      "for k =  12\n",
      "train_score is :   0.865506329113924 and test score is :   0.9649122807017544\n",
      "************************************************\n",
      "************************************************\n",
      "Average train score is :   0.8772965188201702\n",
      "Average test score is :   0.8263762855414398\n"
     ]
    }
   ],
   "source": [
    "from statistics import mean\n",
    "knn = KNeighborsClassifier(algorithm = 'brute', leaf_size =18, n_neighbors =10)\n",
    "\n",
    "cnt =0\n",
    "count=[]\n",
    "train_score =[]\n",
    "test_score = []\n",
    "\n",
    "for train_index,test_index in kfold.split(scaled_features):\n",
    "    X_train, X_test = scaled_features[train_index], scaled_features[test_index] # our scaled data is an array so it can work on x[value]\n",
    "    y_train, y_test = df['Approved'].iloc[train_index], df['Approved'].iloc[test_index] # y is a dataframe so we have to use \"iloc\" to retreive data\n",
    "    knn.fit(X_train,y_train)\n",
    "    train_score_ = knn.score(X_train,y_train)\n",
    "    test_score_ =  knn.score(X_test,y_test)\n",
    "    cnt+=1\n",
    "    count.append(cnt)\n",
    "    train_score.append(train_score_)\n",
    "    test_score.append(test_score_)\n",
    "    \n",
    "    print(\"for k = \", cnt)\n",
    "    print(\"train_score is :  \", train_score_, \"and test score is :  \", test_score_)\n",
    "print(\"************************************************\")\n",
    "print(\"************************************************\")\n",
    "print(\"Average train score is :  \", mean(train_score))\n",
    "print(\"Average test score is :  \", mean(test_score))"
   ]
  },
  {
   "cell_type": "code",
   "execution_count": 21,
   "metadata": {},
   "outputs": [
    {
     "data": {
      "text/plain": [
       "([<matplotlib.axis.YTick at 0x1530ae68148>,\n",
       "  <matplotlib.axis.YTick at 0x1530ae41a48>,\n",
       "  <matplotlib.axis.YTick at 0x1530ae44ac8>,\n",
       "  <matplotlib.axis.YTick at 0x1530aea15c8>,\n",
       "  <matplotlib.axis.YTick at 0x1530aea4108>,\n",
       "  <matplotlib.axis.YTick at 0x1530aea4988>,\n",
       "  <matplotlib.axis.YTick at 0x1530aea83c8>],\n",
       " <a list of 7 Text major ticklabel objects>)"
      ]
     },
     "execution_count": 21,
     "metadata": {},
     "output_type": "execute_result"
    },
    {
     "data": {
      "image/png": "[encoded data removed]",
      "text/plain": [
       "<Figure size 432x288 with 1 Axes>"
      ]
     },
     "metadata": {
      "needs_background": "light"
     },
     "output_type": "display_data"
    }
   ],
   "source": [
    "# let's plot the test_accuracy with the value of k in k-fold\n",
    "\n",
    "plt.plot(count,test_score)\n",
    "plt.xlabel('Value of K for k-fold')\n",
    "plt.ylabel('test accuracy')\n",
    "plt.xticks(np.arange(0, 12, 1)) \n",
    "plt.yticks(np.arange(0.65, 1, 0.05)) "
   ]
  },
  {
   "cell_type": "code",
   "execution_count": 22,
   "metadata": {},
   "outputs": [
    {
     "name": "stdout",
     "output_type": "stream",
     "text": [
      "WITH K=8\n",
      "0.9649122807017544\n",
      "\n",
      "\n",
      "[[ 0  0]\n",
      " [ 2 55]]\n",
      "\n",
      "\n",
      "              precision    recall  f1-score   support\n",
      "\n",
      "           0       0.00      0.00      0.00         0\n",
      "           1       1.00      0.96      0.98        57\n",
      "\n",
      "    accuracy                           0.96        57\n",
      "   macro avg       0.50      0.48      0.49        57\n",
      "weighted avg       1.00      0.96      0.98        57\n",
      "\n"
     ]
    }
   ],
   "source": [
    "knn = KNeighborsClassifier(n_neighbors=8)\n",
    "\n",
    "knn.fit(X_train,y_train)\n",
    "pred = knn.predict(X_test)\n",
    "\n",
    "print('WITH K=8')\n",
    "print(accuracy_score(y_test,pred))\n",
    "print('\\n')\n",
    "print(confusion_matrix(y_test,pred))\n",
    "print('\\n')\n",
    "print(classification_report(y_test,pred))"
   ]
  },
  {
   "cell_type": "code",
   "execution_count": null,
   "metadata": {},
   "outputs": [],
   "source": []
  }
 ],
 "metadata": {
  "kernelspec": {
   "display_name": "Python 3",
   "language": "python",
   "name": "python3"
  },
  "language_info": {
   "codemirror_mode": {
    "name": "ipython",
    "version": 3
   },
   "file_extension": ".py",
   "mimetype": "text/x-python",
   "name": "python",
   "nbconvert_exporter": "python",
   "pygments_lexer": "ipython3",
   "version": "3.7.6"
  }
 },
 "nbformat": 4,
 "nbformat_minor": 4
}
